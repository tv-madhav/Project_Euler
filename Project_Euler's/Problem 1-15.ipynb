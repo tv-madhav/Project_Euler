{
 "cells": [
  {
   "cell_type": "markdown",
   "metadata": {},
   "source": [
    "Problem 1"
   ]
  },
  {
   "cell_type": "markdown",
   "metadata": {},
   "source": [
    "If we list all the natural numbers below  that are multiples of  or , we get  and . The sum of these multiples is .\n",
    "\n",
    "Find the sum of all the multiples of  or  below .\n",
    "\n",
    "Input Format\n",
    "\n",
    "First line contains  that denotes the number of test cases. This is followed by  lines, each containing an integer, ."
   ]
  },
  {
   "cell_type": "code",
   "execution_count": 2,
   "metadata": {},
   "outputs": [
    {
     "name": "stdout",
     "output_type": "stream",
     "text": [
      "2\n",
      "10\n",
      "23\n",
      "100\n",
      "2318\n"
     ]
    }
   ],
   "source": [
    "t=int(input())\n",
    "def ar(x):\n",
    "    return x*(x+1);\n",
    "for i in range(t):\n",
    "    n =int(input())\n",
    "    n -=1;\n",
    "    a=int(n/3);\n",
    "    b=int(n/5);\n",
    "    c=int(n/15);\n",
    "    print(int(int(3*ar(a) + 5*ar(b) - 15*ar(c))>>1));\n"
   ]
  },
  {
   "cell_type": "code",
   "execution_count": null,
   "metadata": {},
   "outputs": [],
   "source": []
  }
 ],
 "metadata": {
  "kernelspec": {
   "display_name": "Python 3",
   "language": "python",
   "name": "python3"
  },
  "language_info": {
   "codemirror_mode": {
    "name": "ipython",
    "version": 3
   },
   "file_extension": ".py",
   "mimetype": "text/x-python",
   "name": "python",
   "nbconvert_exporter": "python",
   "pygments_lexer": "ipython3",
   "version": "3.7.4"
  }
 },
 "nbformat": 4,
 "nbformat_minor": 2
}
