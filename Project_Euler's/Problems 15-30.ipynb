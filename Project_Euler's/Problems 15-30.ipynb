{
 "cells": [
  {
   "cell_type": "markdown",
   "metadata": {},
   "source": [
    "# Project Euler #16: Power digit sum"
   ]
  },
  {
   "cell_type": "markdown",
   "metadata": {},
   "source": [
    "215 = 32768 and the sum of its digits is 3 + 2 + 7 + 6 + 8 = 26.\n",
    "\n",
    "What is the sum of the digits of the number 21000?"
   ]
  },
  {
   "cell_type": "code",
   "execution_count": null,
   "metadata": {},
   "outputs": [],
   "source": [
    "import math\n",
    "\n",
    "def getSum(n): \n",
    "\n",
    "    strr = str(n)\n",
    "    list_of_number = list(map(int, strr.strip()))\n",
    "    return sum(list_of_number)\n",
    "    \n",
    "    \n",
    "    \n",
    "t = int(input())\n",
    "while (t>0):\n",
    "    t -= 1\n",
    "    n = int(input())\n",
    "    m = (2**n)\n",
    "    print(getSum(m))\n",
    "    \n",
    "       "
   ]
  },
  {
   "cell_type": "markdown",
   "metadata": {},
   "source": [
    "# Project Euler #17: Number to Words"
   ]
  },
  {
   "cell_type": "markdown",
   "metadata": {},
   "source": [
    "if the numbers 1 to 5 are written out in words: one, two, three, four, five, then there are 3 + 3 + 5 + 4 + 4 = 19 letters used in total.\n",
    "\n",
    "If all the numbers from 1 to 1000 (one thousand) inclusive were written out in words, how many letters would be used?\n",
    "\n",
    "\n",
    "NOTE: Do not count spaces or hyphens. For example, 342 (three hundred and forty-two) contains 23 letters and 115 (one hundred and fifteen) contains 20 letters. The use of \"and\" when writing out numbers is in compliance with British usage."
   ]
  },
  {
   "cell_type": "code",
   "execution_count": null,
   "metadata": {},
   "outputs": [],
   "source": [
    "c={0:\"Thousand \",1:\"Million \",2:\"Billion \",3:\"Trillion \"}\n",
    "def fun(n):\n",
    "    dic={0:\"\",1:\"One \",2:\"Two \",3:\"Three \",4:\"Four \",5:\"Five \",6:\"Six \",7:\"Seven \",8:\"Eight \",9:\"Nine \",10:\"Ten \",11:\"Eleven \",12:\"Twelve \",13:\"Thirteen \",14:\"Fourteen \",15:\"Fifteen \",16:\"Sixteen \",17:\"Seventeen \",18:\"Eighteen \",19:\"Nineteen \",20:\"Twenty \",30:\"Thirty \",40:\"Forty \",50:\"Fifty \",60:\"Sixty \",70:\"Seventy \",80:\"Eighty \",90:\"Ninety \"}\n",
    "    if n>=100:\n",
    "        h=n//100\n",
    "        r=n%100\n",
    "        if(r<=19):\n",
    "            return dic[h]+\"Hundred \"+dic[r]\n",
    "        else:\n",
    "            return dic[h]+\"Hundred \"+dic[r-(r%10)]+dic[r%10]\n",
    "    else:\n",
    "        if(n<=19):\n",
    "            return dic[n]\n",
    "        else:\n",
    "            return dic[n-(n%10)]+dic[n%10]\n",
    "        \n",
    "n=int(input().strip())\n",
    "for i in range(n):\n",
    "    m=int(input())\n",
    "    li=[]\n",
    "    if(m==0):\n",
    "        print(\"Zero\")\n",
    "    else:\n",
    "        while(m>100):\n",
    "            re=m%1000\n",
    "            m=m//1000\n",
    "            li.append(fun(re))\n",
    "        if(m>0):\n",
    "            li.append(fun(m))\n",
    "        k=len(li)\n",
    "        s=li[0]\n",
    "        for i in range(1,k):\n",
    "            if(li[i]!=\"\"):\n",
    "                s=li[i]+c[i-1]+s\n",
    "        print(s)\n"
   ]
  },
  {
   "cell_type": "code",
   "execution_count": null,
   "metadata": {},
   "outputs": [],
   "source": []
  }
 ],
 "metadata": {
  "kernelspec": {
   "display_name": "Python 3",
   "language": "python",
   "name": "python3"
  },
  "language_info": {
   "codemirror_mode": {
    "name": "ipython",
    "version": 3
   },
   "file_extension": ".py",
   "mimetype": "text/x-python",
   "name": "python",
   "nbconvert_exporter": "python",
   "pygments_lexer": "ipython3",
   "version": "3.7.4"
  }
 },
 "nbformat": 4,
 "nbformat_minor": 2
}
